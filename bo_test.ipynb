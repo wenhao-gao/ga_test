{
 "cells": [
  {
   "cell_type": "code",
   "execution_count": 1,
   "metadata": {},
   "outputs": [],
   "source": [
    "import pickle\n",
    "import time\n",
    "import numpy as np\n",
    "import matplotlib.pyplot as plt\n",
    "from hyperopt import fmin, tpe, hp, STATUS_OK, Trials\n",
    "\n",
    "%matplotlib inline"
   ]
  },
  {
   "cell_type": "markdown",
   "metadata": {},
   "source": [
    "# Test case"
   ]
  },
  {
   "cell_type": "code",
   "execution_count": 22,
   "metadata": {},
   "outputs": [],
   "source": [
    "def objective(hps):\n",
    "    return {\n",
    "        'loss': (hps['x'] ** 2) + (hps['y'] ** 2),\n",
    "        'status': STATUS_OK,\n",
    "        # -- store other results like this\n",
    "        'eval_time': time.time(),\n",
    "        'other_stuff': {'type': None, 'value': [0, 1, 2]},\n",
    "        # -- attachments are handled differently\n",
    "        'attachments':\n",
    "            {'time_module': pickle.dumps(time.time)}\n",
    "        }\n",
    "trials = Trials()"
   ]
  },
  {
   "cell_type": "code",
   "execution_count": 23,
   "metadata": {},
   "outputs": [
    {
     "name": "stdout",
     "output_type": "stream",
     "text": [
      "100%|██████████| 1000/1000 [00:06<00:00, 165.93it/s, best loss: 0.004699663989226848]\n",
      "{'x': -0.06011652453066607, 'y': -0.03294946839602533}\n"
     ]
    }
   ],
   "source": [
    "best = fmin(objective,\n",
    "    space={\n",
    "        'x': hp.uniform('x', -10, 10),\n",
    "        'y': hp.uniform('y', -10, 10)\n",
    "    },\n",
    "    algo=tpe.suggest,\n",
    "    max_evals=1000,\n",
    "    trials=trials)\n",
    "\n",
    "print(best)"
   ]
  },
  {
   "cell_type": "code",
   "execution_count": 11,
   "metadata": {},
   "outputs": [
    {
     "data": {
      "text/plain": [
       "[17.14925890800539,\n",
       " 42.38683610858323,\n",
       " 20.195975365525488,\n",
       " 22.144166874714657,\n",
       " 0.709669147279038,\n",
       " 0.20855744509078808,\n",
       " 0.0009402394978576315,\n",
       " 32.55474669881439,\n",
       " 91.96387396157859,\n",
       " 3.301790599297985,\n",
       " 95.54563219211498,\n",
       " 95.19106678993246,\n",
       " 31.530818318781375,\n",
       " 6.929007987730084,\n",
       " 90.10808867576182,\n",
       " 75.90117198157849,\n",
       " 5.856929567681426,\n",
       " 17.655254632649417,\n",
       " 2.6711997575467157,\n",
       " 97.65079504776514,\n",
       " 0.9837213059792451,\n",
       " 1.2622879092604993,\n",
       " 57.13579032503423,\n",
       " 5.563734098240382,\n",
       " 46.995056284468376,\n",
       " 0.019425543174544046,\n",
       " 10.785533992638523,\n",
       " 7.444074497690113,\n",
       " 0.926349071627428,\n",
       " 57.18376642981526,\n",
       " 17.190284257373758,\n",
       " 15.53152622477571,\n",
       " 0.05167094864518528,\n",
       " 39.719221576590776,\n",
       " 25.79221336751265,\n",
       " 27.751638586667298,\n",
       " 1.5347805300264075,\n",
       " 8.395621192539982,\n",
       " 8.785603469484945,\n",
       " 0.05667850128963035,\n",
       " 46.188153299115214,\n",
       " 59.538022409589715,\n",
       " 12.884138677341221,\n",
       " 4.7571367901521135,\n",
       " 70.22651360178033,\n",
       " 2.922434259699616,\n",
       " 13.669433461770875,\n",
       " 0.6808077099657045,\n",
       " 0.11508715220128157,\n",
       " 21.34671134648492,\n",
       " 3.278405103298346,\n",
       " 31.411612099127165,\n",
       " 22.103384597479135,\n",
       " 3.34015330068407,\n",
       " 34.92628979696088,\n",
       " 51.39496253691961,\n",
       " 11.558342756583327,\n",
       " 70.5571761533495,\n",
       " 1.077458648854048,\n",
       " 72.89810132598187,\n",
       " 15.681087270448442,\n",
       " 6.457953778900112,\n",
       " 0.702877135958387,\n",
       " 0.2968273591313105,\n",
       " 42.54761268805001,\n",
       " 3.702114514650645,\n",
       " 0.06718508204177126,\n",
       " 0.17819347489718573,\n",
       " 1.6097136745358505,\n",
       " 9.306040655477622,\n",
       " 2.1033293916552185,\n",
       " 5.433601879008642,\n",
       " 0.05918166209498401,\n",
       " 9.824348001723424,\n",
       " 5.486623256144405,\n",
       " 19.51310290001016,\n",
       " 30.339679609312793,\n",
       " 23.46733613098547,\n",
       " 2.359614045622383,\n",
       " 0.5567787570233058,\n",
       " 13.441307098796875,\n",
       " 28.33630918351172,\n",
       " 1.6058109892299046,\n",
       " 4.743235912097016,\n",
       " 4.264344692148085,\n",
       " 39.56054077678294,\n",
       " 13.444864875883018,\n",
       " 7.831241224845262,\n",
       " 0.48994816101114813,\n",
       " 19.8395061970151,\n",
       " 7.322001119612528,\n",
       " 40.76825027428144,\n",
       " 16.71996103016173,\n",
       " 22.32011253628666,\n",
       " 0.003825200341189238,\n",
       " 11.043821757770479,\n",
       " 0.008458302516750007,\n",
       " 89.25647637708927,\n",
       " 2.0807390651024718,\n",
       " 58.20827314257741]"
      ]
     },
     "execution_count": 11,
     "metadata": {},
     "output_type": "execute_result"
    }
   ],
   "source": [
    "trials.losses()"
   ]
  },
  {
   "cell_type": "markdown",
   "metadata": {},
   "source": [
    "# Real Case"
   ]
  },
  {
   "cell_type": "code",
   "execution_count": 4,
   "metadata": {},
   "outputs": [],
   "source": [
    "SPACE = {\n",
    "    'mu': hp.uniform('mu', 1, 5),\n",
    "    'sigma': hp.uniform('sigma', 0.01, 5)\n",
    "}"
   ]
  },
  {
   "cell_type": "code",
   "execution_count": null,
   "metadata": {},
   "outputs": [],
   "source": [
    "def evalutaue()\n",
    "\n",
    "def objective(hps):\n",
    "    return {\n",
    "        'loss': (hps['x'] ** 2) + (hps['y'] ** 2),\n",
    "        'status': STATUS_OK,\n",
    "        # -- store other results like this\n",
    "        'eval_time': time.time(),\n",
    "        'other_stuff': {'type': None, 'value': [0, 1, 2]},\n",
    "        # -- attachments are handled differently\n",
    "        'attachments':\n",
    "            {'time_module': pickle.dumps(time.time)}\n",
    "        }\n",
    "trials = Trials()"
   ]
  },
  {
   "cell_type": "code",
   "execution_count": null,
   "metadata": {},
   "outputs": [],
   "source": []
  },
  {
   "cell_type": "markdown",
   "metadata": {},
   "source": [
    "# Play Ground"
   ]
  },
  {
   "cell_type": "code",
   "execution_count": 1,
   "metadata": {},
   "outputs": [
    {
     "name": "stderr",
     "output_type": "stream",
     "text": [
      "Using TensorFlow backend.\n"
     ]
    }
   ],
   "source": [
    "from guacamol_local.standard_benchmarks import hard_cobimetinib, similarity, logP_benchmark, cns_mpo, \\\n",
    "    qed_benchmark, median_camphor_menthol, novelty_benchmark, isomers_c11h24, isomers_c7h8n2o2, isomers_c9h10n2o2pf2cl, \\\n",
    "    frechet_benchmark, tpsa_benchmark, hard_osimertinib, hard_fexofenadine, weird_physchem, start_pop_ranolazine, \\\n",
    "    kldiv_benchmark, perindopril_rings, amlodipine_rings, sitagliptin_replacement, zaleplon_with_other_formula, valsartan_smarts, \\\n",
    "    median_tadalafil_sildenafil, decoration_hop, scaffold_hop, ranolazine_mpo, pioglitazone_mpo, sa_qed_benchmark\n",
    "from guacamol_local.scoring_function import *\n",
    "from rdkit import Chem\n",
    "from functools import partial\n",
    "\n",
    "from guacamol_local.common_scoring_functions import TanimotoScoringFunction, RdkitScoringFunction, CNS_MPO_ScoringFunction, \\\n",
    "    IsomerScoringFunction, SMARTSScoringFunction\n",
    "from guacamol_local.distribution_learning_benchmark import DistributionLearningBenchmark, NoveltyBenchmark, KLDivBenchmark\n",
    "from guacamol_local.frechet_benchmark import FrechetBenchmark\n",
    "from guacamol_local.goal_directed_benchmark import GoalDirectedBenchmark\n",
    "from guacamol_local.goal_directed_score_contributions import uniform_specification\n",
    "from guacamol_local.score_modifier import MinGaussianModifier, MaxGaussianModifier, ClippedScoreModifier, GaussianModifier\n",
    "from guacamol_local.scoring_function import ArithmeticMeanScoringFunction, GeometricMeanScoringFunction, ScoringFunction, \\\n",
    "    ScoringFunctionSAWrapper\n",
    "from guacamol_local.utils.descriptors import num_rotatable_bonds, num_aromatic_rings, logP, qed, tpsa, bertz, mol_weight, \\\n",
    "    AtomCounter, num_rings\n",
    "from guacamol_local.sa_modifier import LinearModifier, SAScoreModifier, SCScoreModifier, SmilesModifier"
   ]
  },
  {
   "cell_type": "code",
   "execution_count": 2,
   "metadata": {},
   "outputs": [],
   "source": [
    "a = IsomerScoringFunction('C9H10N2O2PF2Cl', mean_function='geometric')"
   ]
  },
  {
   "cell_type": "code",
   "execution_count": 10,
   "metadata": {},
   "outputs": [
    {
     "data": {
      "text/plain": [
       "0.004853161163813102"
      ]
     },
     "execution_count": 10,
     "metadata": {},
     "output_type": "execute_result"
    }
   ],
   "source": [
    "a.score('CNCCN(C)NCOCON')"
   ]
  },
  {
   "cell_type": "code",
   "execution_count": 4,
   "metadata": {},
   "outputs": [],
   "source": [
    "b = ScoringFunctionSAWrapper(a, SAScoreModifier())"
   ]
  },
  {
   "cell_type": "code",
   "execution_count": 9,
   "metadata": {},
   "outputs": [
    {
     "data": {
      "text/plain": [
       "0.0028884464405169613"
      ]
     },
     "execution_count": 9,
     "metadata": {},
     "output_type": "execute_result"
    }
   ],
   "source": [
    "b.score('CNCCN(C)NCOCON')"
   ]
  },
  {
   "cell_type": "code",
   "execution_count": 6,
   "metadata": {},
   "outputs": [],
   "source": [
    "modifier = SAScoreModifier()"
   ]
  },
  {
   "cell_type": "code",
   "execution_count": 17,
   "metadata": {},
   "outputs": [
    {
     "data": {
      "text/plain": [
       "1.0"
      ]
     },
     "execution_count": 17,
     "metadata": {},
     "output_type": "execute_result"
    }
   ],
   "source": [
    "modifier('O=C(NCc1ccccc1Br)c1cc(Cl)on1', 1)"
   ]
  }
 ],
 "metadata": {
  "kernelspec": {
   "display_name": "Python 3",
   "language": "python",
   "name": "python3"
  },
  "language_info": {
   "codemirror_mode": {
    "name": "ipython",
    "version": 3
   },
   "file_extension": ".py",
   "mimetype": "text/x-python",
   "name": "python",
   "nbconvert_exporter": "python",
   "pygments_lexer": "ipython3",
   "version": "3.6.3"
  }
 },
 "nbformat": 4,
 "nbformat_minor": 2
}
